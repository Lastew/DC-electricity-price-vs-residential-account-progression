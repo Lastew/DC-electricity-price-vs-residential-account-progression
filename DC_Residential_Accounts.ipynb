{
 "cells": [
  {
   "cell_type": "code",
   "execution_count": null,
   "metadata": {},
   "outputs": [],
   "source": [
    "# import python libraries for this data analytics task \n",
    "import pandas as pd \n",
    "import matplotlib.pyplot as plt \n",
    "\n",
    "%matplotlib inline \n",
    "\n",
    "# import python HTTP library \n",
    "import requests\n",
    "\n",
    "# import modules\n",
    "import json \n",
    "from datetime import datetime as dt\n",
    "\n"
   ]
  },
  {
   "cell_type": "code",
   "execution_count": null,
   "metadata": {},
   "outputs": [],
   "source": [
    "url = \"http://api.eia.gov/series/?api_key=\"\n",
    "res_acc = \"&series_id=ELEC.CUSTOMERS.DC-RES.M\"\n",
    "res_price = \"&series_id=ELEC.PRICE.DC-RES.M\"\n",
    "\n",
    "# read the api_key stored at a text file \n",
    "with open(\"doe.txt\", \"r\") as file:\n",
    "    for line in file:\n",
    "        api_key = line "
   ]
  },
  {
   "cell_type": "markdown",
   "metadata": {},
   "source": [
    "# New Residential Accounts"
   ]
  },
  {
   "cell_type": "code",
   "execution_count": null,
   "metadata": {},
   "outputs": [],
   "source": [
    "# request the website \n",
    "resp = requests.get(url+api_key+res_acc)\n",
    "resp"
   ]
  },
  {
   "cell_type": "code",
   "execution_count": null,
   "metadata": {},
   "outputs": [],
   "source": [
    "res_account = resp.json()\n",
    "data_res_account = res_account['series'][0]['data']\n",
    "data_res_account"
   ]
  },
  {
   "cell_type": "code",
   "execution_count": null,
   "metadata": {},
   "outputs": [],
   "source": [
    "res_yymm= []\n",
    "res_yy = []\n",
    "res_mm = []\n",
    "res_lst = []"
   ]
  },
  {
   "cell_type": "code",
   "execution_count": null,
   "metadata": {},
   "outputs": [],
   "source": [
    "for value in data_res_account:\n",
    "    yymm = dt.strptime(value[0],\"%Y%m\")\n",
    "    yy = yymm.strftime(\"%Y\")\n",
    "    mm = yymm.strftime(\"%m\")\n",
    "    \n",
    "    res_yymm.append(value[0])\n",
    "    res_yy.append(yy)\n",
    "    res_mm.append(mm)\n",
    "    res_lst.append(value[1])\n",
    "    "
   ]
  },
  {
   "cell_type": "code",
   "execution_count": null,
   "metadata": {},
   "outputs": [],
   "source": [
    "doe_df = {\"Date\":res_yymm,\n",
    "          \"Year\":res_yy,\n",
    "          \"Month\":res_mm,\n",
    "          \"Residential_accounts\":res_lst    \n",
    "}"
   ]
  },
  {
   "cell_type": "code",
   "execution_count": null,
   "metadata": {},
   "outputs": [],
   "source": [
    "# create datafrane with column name it \n",
    "dr = pd.DataFrame(data=doe_df)\n",
    "dr_new = dr[dr[\"Year\"]!=\"2019\"].sort_values(\"Date\")\n",
    "x_ = dr_new[\"Date\"]\n",
    "y_ = dr_new[\"Residential_accounts\"]\n",
    "plt.figure(figsize=(13,7))\n",
    "plt.plot(x_,y_,\"*--\")\n",
    "plt.title(\"2008 - 2018 Residential Account Progression\", fontsize=18)\n",
    "plt.yticks(fontsize=12)\n",
    "plt.xticks(\"\")"
   ]
  },
  {
   "cell_type": "code",
   "execution_count": null,
   "metadata": {
    "scrolled": false
   },
   "outputs": [],
   "source": [
    "# create a new colum and shift the residential account column by one  \n",
    "dr[\"Shifted\"] = dr[\"Residential_accounts\"].shift(-1,axis=0)\n",
    "dr[\"New_res_accounts\"] = dr[\"Residential_accounts\"]-dr[\"Shifted\"]\n",
    "\n",
    "# group the column by year\n",
    "dr_0818 = dr[dr[\"Year\"]!=\"2019\"]\n",
    "dr_0818_res = dr_0818.groupby(\"Year\").New_res_accounts.sum().reset_index()\n",
    "dr_0818_res"
   ]
  },
  {
   "cell_type": "code",
   "execution_count": null,
   "metadata": {},
   "outputs": [],
   "source": [
    "# bar plot new residential accounts over a year period\n",
    "dr_0818_res.plot(x='Year',y='New_res_accounts', figsize=(15,7),kind='bar',rot=0,color=(0.2,0.4,0.6,0.6))\n",
    "plt.title('New Residential Accounts',fontsize=21)\n",
    "plt.xticks(fontsize=12)\n",
    "plt.yticks(fontsize=12)\n",
    "plt.xlabel(\"\")"
   ]
  },
  {
   "cell_type": "markdown",
   "metadata": {},
   "source": [
    "# 2018 Opened Residential Accounts "
   ]
  },
  {
   "cell_type": "code",
   "execution_count": null,
   "metadata": {},
   "outputs": [],
   "source": [
    "# 2018 residential account progression \n",
    "dr_2018_acc = dr[dr['Year'] =='2018'].sort_values(by=\"Month\")\n",
    "x_data = dr_2018_acc['Month']\n",
    "y_data = dr_2018_acc['Residential_accounts']\n",
    "plt.figure(figsize=(15,7))\n",
    "plt.plot(x_data,y_data,\"*--\")\n",
    "months = ['Jan','Feb','Mar','Apr','May','Jun','Jul','Aug','Sep','Oct','Nov','Dec']\n",
    "plt.xticks(x_data,months,fontsize=12)\n",
    "plt.title(\"2018 Residential Account Progression\", fontsize=21)\n",
    "plt.yticks(fontsize=12)"
   ]
  },
  {
   "cell_type": "code",
   "execution_count": null,
   "metadata": {},
   "outputs": [],
   "source": [
    "# 2018 opened residential accounts\n",
    "plt.figure(figsize=(13,7))\n",
    "x_data = dr_2018_acc['Month']\n",
    "y_data = dr_2018_acc['New_res_accounts']\n",
    "plt.plot(x_data,y_data,\"*--\")\n",
    "months = ['Jan','Feb','Mar','Apr','May','Jun','Jul','Aug','Sep','Oct','Nov','Dec']\n",
    "plt.xticks(x_data,months,fontsize=12)\n",
    "#plt.xlabel(\"Monthes\",fontsize=21)\n",
    "plt.title(\"2018 Opened Residential Accounts\",fontsize=21)\n",
    "plt.yticks(fontsize=12)"
   ]
  },
  {
   "cell_type": "markdown",
   "metadata": {},
   "source": [
    "# Electric Retail Price Variation Over the Years"
   ]
  },
  {
   "cell_type": "code",
   "execution_count": null,
   "metadata": {},
   "outputs": [],
   "source": [
    "res_prices = requests.get(url+api_key+res_price)\n",
    "rprice = res_prices.json()\n",
    "pdata = rprice['series'][0][\"data\"]"
   ]
  },
  {
   "cell_type": "code",
   "execution_count": null,
   "metadata": {},
   "outputs": [],
   "source": [
    "datelst = []\n",
    "pricelst = []\n",
    "yearlst = []\n",
    "monthlst = []"
   ]
  },
  {
   "cell_type": "code",
   "execution_count": null,
   "metadata": {},
   "outputs": [],
   "source": [
    "for price in pdata:\n",
    "    #datelst.append(price[0])\n",
    "    yearmonth = dt.strptime(price[0],\"%Y%m\")\n",
    "    yy_lst = yearmonth.strftime(\"%Y\")\n",
    "    mm_lst = yearmonth.strftime(\"%m\")\n",
    "    \n",
    "    datelst.append(price[0])\n",
    "    yearlst.append(yy_lst)\n",
    "    monthlst.append(mm_lst)\n",
    "    pricelst.append(price[1])"
   ]
  },
  {
   "cell_type": "code",
   "execution_count": null,
   "metadata": {},
   "outputs": [],
   "source": [
    "dframe = pd.DataFrame({\"YearDate\":datelst,\n",
    "                       \"Year\": yearlst,\n",
    "                       \"Month\": monthlst,\n",
    "                       \"Yearsum_retail_price\": pricelst\n",
    "})"
   ]
  },
  {
   "cell_type": "code",
   "execution_count": null,
   "metadata": {},
   "outputs": [],
   "source": [
    "dr_0818_price = dframe[dframe[\"Year\"].isin([\"2008\",\"2009\",\"2010\",\"2011\",\"2012\",\"2013\",\"2014\",\"2015\",\"2016\",\"2017\",\"2018\"])]\n",
    "dr_0818_aveprice = dr_0818_price.groupby(\"Year\").Yearsum_retail_price.sum().reset_index()\n",
    "dr_0818_aveprice[\"Average_retail[$/kwh]\"] = dr_0818_aveprice[\"Yearsum_retail_price\"]/12\n",
    "dr_0818_aveprice"
   ]
  },
  {
   "cell_type": "code",
   "execution_count": null,
   "metadata": {},
   "outputs": [],
   "source": [
    "x_pdata = dr_0818_aveprice[\"Year\"]\n",
    "y_pdata = dr_0818_aveprice[\"Average_retail[$/kwh]\"]\n",
    "plt.figure(figsize=(15,7))\n",
    "plt.plot(x_pdata,y_pdata)\n",
    "plt.xlabel(\"Years\",fontsize=21)\n",
    "plt.ylabel(\"[$/kWh]\",fontsize=16)\n",
    "plt.title(\"Yearly average retail price for residential customers\", fontsize=21)\n",
    "plt.xticks(fontsize=12)\n",
    "plt.yticks(fontsize=12)"
   ]
  },
  {
   "cell_type": "code",
   "execution_count": null,
   "metadata": {},
   "outputs": [],
   "source": [
    "dr_2018_retail = dframe[dframe[\"Year\"]=='2018'].sort_values('Month')\n",
    "x_pdata18 = dr_2018_retail[\"Month\"]\n",
    "y_pdata18 = dr_2018_retail[\"Yearsum_retail_price\"]\n",
    "plt.figure(figsize=(13,5))\n",
    "plt.plot(x_pdata18,y_pdata18)\n",
    "plt.xlabel(\"Months\",fontsize=21)\n",
    "plt.title(\"Monthly Residential Retail Price in 2018 [$/kWh]\", fontsize=21)\n",
    "plt.xticks(x_pdata18,months,fontsize=12)\n",
    "plt.yticks(fontsize=12)"
   ]
  },
  {
   "cell_type": "code",
   "execution_count": null,
   "metadata": {},
   "outputs": [],
   "source": [
    "dr_2018_account = dr[dr.Year==\"2018\"].sort_values(by=\"Month\")\n",
    "\n",
    "x1_d = dr_2018_account[\"Month\"]\n",
    "y1_d = dr_2018_account[\"New_res_accounts\"]\n",
    "x2_d = dr_2018_retail[\"Month\"]\n",
    "y2_d = dr_2018_retail[\"Yearsum_retail_price\"]\n",
    "\n",
    "fig,ax1 = plt.subplots(figsize=(15,7))\n",
    "\n",
    "ax2 = ax1.twinx()\n",
    "\n",
    "ax1.plot(x1_d,y1_d,linewidth=2)\n",
    "plt.grid()\n",
    "ax2.plot(x1_d,y2_d,'g--',linewidth=3)\n",
    "ax1.set_ylabel(\"New Residential Customers\",fontsize=16)\n",
    "ax2.set_ylabel(\"Residential Retail Price [$/kWh]\", color='g',fontsize=16)\n",
    "\n",
    "plt.xticks(x1_d,months)\n",
    "plt.yticks(fontsize=12)\n",
    "ax1.set_title(\"Retail price and new residential account variation in the year 2018\", fontsize=16,fontweight='bold')"
   ]
  },
  {
   "cell_type": "code",
   "execution_count": null,
   "metadata": {},
   "outputs": [],
   "source": [
    "# import gridspec library\n",
    "import matplotlib.gridspec as gridspec"
   ]
  },
  {
   "cell_type": "code",
   "execution_count": null,
   "metadata": {},
   "outputs": [],
   "source": [
    "plt.figure(figsize=(20,9))\n",
    "G = gridspec.GridSpec(2,2)\n",
    "\n",
    "# axes #1 \n",
    "axes_1 = plt.subplot(G[0,0])\n",
    "axes_1.set_title('New Residential Accounts',fontsize=16,fontweight='bold')\n",
    "x_racc = dr_final[\"Year\"] \n",
    "y_racc = dr_final[\"New_res_accounts\"]\n",
    "plt.plot(x_racc, y_racc)\n",
    "\n",
    "# axes #2 \n",
    "axes_2 = plt.subplot(G[-1,0])\n",
    "axes_2.set_title(\"Average Residential Retail\", fontsize=16,fontweight='bold')\n",
    "plt.plot(x_pdata,y_pdata)  \n",
    "\n",
    "\n",
    "# axes #3 \n",
    "axes_31 = plt.subplot(G[0:,-1])\n",
    "axes_31.set_title(\"Residential Retail vs New Accounts in 2018\", fontsize=16,fontweight='bold')\n",
    "plt.plot(x_pdata18, y_pdata18)\n",
    "axes_31.set_ylabel(\"[$/kWh]\",fontsize=16,fontweight=\"bold\")\n",
    "\n",
    "plt.xticks(x_pdata18,months)\n",
    "\n",
    "# duplext axes\n",
    "axes_32 = axes_31.twinx()\n",
    "plt.plot(x_pdata18,y1_d,'g--',linewidth=3)\n",
    "axes_32.set_ylabel(\"Residential accounts\",fontsize=16,color=\"green\",fontweight='bold')\n",
    "\n",
    "plt.grid(color=\"green\")"
   ]
  },
  {
   "cell_type": "code",
   "execution_count": null,
   "metadata": {},
   "outputs": [],
   "source": []
  }
 ],
 "metadata": {
  "kernelspec": {
   "display_name": "Python 3",
   "language": "python",
   "name": "python3"
  },
  "language_info": {
   "codemirror_mode": {
    "name": "ipython",
    "version": 3
   },
   "file_extension": ".py",
   "mimetype": "text/x-python",
   "name": "python",
   "nbconvert_exporter": "python",
   "pygments_lexer": "ipython3",
   "version": "3.7.0"
  }
 },
 "nbformat": 4,
 "nbformat_minor": 2
}
